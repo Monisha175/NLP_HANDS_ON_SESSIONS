{
 "cells": [
  {
   "cell_type": "code",
   "execution_count": 1,
   "id": "90f1700e-adec-4cfe-827f-d8cb7fa4237a",
   "metadata": {},
   "outputs": [],
   "source": [
    "\n",
    "\n",
    "from sklearn.feature_extraction.text import TfidfVectorizer\n",
    "from sklearn.metrics.pairwise import cosine_similarity"
   ]
  },
  {
   "cell_type": "code",
   "execution_count": 2,
   "id": "cc5a7fde-c2a0-4017-a4ab-b78022eaa902",
   "metadata": {},
   "outputs": [],
   "source": [
    "text1 = \"Cosine similarity calculates how similar two vectors are by measuring the angle between them.\"  \n",
    "text2 = \"The angle between two vectors is used to determine their similarity using cosine similarity.\""
   ]
  },
  {
   "cell_type": "code",
   "execution_count": 3,
   "id": "2393f202-6a83-4a88-b7a4-e6b1ac3aa32d",
   "metadata": {},
   "outputs": [],
   "source": [
    "# Convert text to TF-IDF vectors\n",
    "vectorizer = TfidfVectorizer(stop_words='english')  # Remove stop words\n",
    "tfidf_matrix = vectorizer.fit_transform([text1, text2])"
   ]
  },
  {
   "cell_type": "code",
   "execution_count": 4,
   "id": "e2e463b2-b7df-4d5c-85ad-145306335c62",
   "metadata": {},
   "outputs": [
    {
     "name": "stdout",
     "output_type": "stream",
     "text": [
      "Cosine Similarity: 0.4414\n"
     ]
    }
   ],
   "source": [
    "# Compute cosine similarity\n",
    "cosine_sim1 = cosine_similarity(tfidf_matrix[0], tfidf_matrix[1])\n",
    "# Output similarity score\n",
    "print(f\"Cosine Similarity: {cosine_sim1[0][0]:.4f}\")"
   ]
  },
  {
   "cell_type": "code",
   "execution_count": 5,
   "id": "ad3457a5-5aaf-4806-b0bc-d287fa551b81",
   "metadata": {},
   "outputs": [
    {
     "name": "stderr",
     "output_type": "stream",
     "text": [
      "[nltk_data] Downloading package punkt to\n",
      "[nltk_data]     C:\\Users\\MONISHA\\AppData\\Roaming\\nltk_data...\n",
      "[nltk_data]   Package punkt is already up-to-date!\n"
     ]
    },
    {
     "data": {
      "text/plain": [
       "True"
      ]
     },
     "execution_count": 5,
     "metadata": {},
     "output_type": "execute_result"
    }
   ],
   "source": [
    "\n",
    "import nltk\n",
    "from nltk.stem import PorterStemmer\n",
    "from nltk.tokenize import word_tokenize\n",
    "from sklearn.feature_extraction.text import TfidfVectorizer\n",
    "from sklearn.metrics.pairwise import cosine_similarity\n",
    "nltk.download('punkt')"
   ]
  },
  {
   "cell_type": "code",
   "execution_count": 6,
   "id": "abda2153-371f-4d48-9eda-ac5b97aa59bc",
   "metadata": {},
   "outputs": [],
   "source": [
    "\n",
    "# Initialize Stemmer\n",
    "stemmer = PorterStemmer()"
   ]
  },
  {
   "cell_type": "code",
   "execution_count": 7,
   "id": "9585b510-9c2c-4b8f-9556-9a63fbed404a",
   "metadata": {},
   "outputs": [],
   "source": [
    "\n",
    "# Function to apply stemming\n",
    "def stem_text(text):\n",
    "    words = word_tokenize(text)\n",
    "    stemmed_words = [stemmer.stem(word) for word in words]\n",
    "    return \" \".join(stemmed_words)"
   ]
  },
  {
   "cell_type": "code",
   "execution_count": 8,
   "id": "c73fbd19-dd68-4506-8b12-ed6a21ef3cbd",
   "metadata": {},
   "outputs": [],
   "source": [
    "\n",
    "# Apply stemming\n",
    "text1_stemmed = stem_text(text1)\n",
    "text2_stemmed = stem_text(text2)"
   ]
  },
  {
   "cell_type": "code",
   "execution_count": 9,
   "id": "058e2878-e9bc-4320-8aa3-ef86f4a61f46",
   "metadata": {},
   "outputs": [],
   "source": [
    "\n",
    "# Convert text to TF-IDF vectors\n",
    "vectorizer = TfidfVectorizer(stop_words='english')\n",
    "tfidf_matrix = vectorizer.fit_transform([text1_stemmed, text2_stemmed])"
   ]
  },
  {
   "cell_type": "code",
   "execution_count": 10,
   "id": "34711139-930a-48af-9f87-297ed434e87f",
   "metadata": {},
   "outputs": [
    {
     "name": "stdout",
     "output_type": "stream",
     "text": [
      "Cosine Similarity (with stemming): 0.5149\n"
     ]
    }
   ],
   "source": [
    "\n",
    "# Compute cosine similarity\n",
    "cosine_sim2 = cosine_similarity(tfidf_matrix[0], tfidf_matrix[1])\n",
    "# Output similarity score\n",
    "print(f\"Cosine Similarity (with stemming): {cosine_sim2[0][0]:.4f}\")"
   ]
  },
  {
   "cell_type": "code",
   "execution_count": null,
   "id": "63e46ddf-dc2a-4874-a92c-90e4b37999f3",
   "metadata": {},
   "outputs": [],
   "source": []
  }
 ],
 "metadata": {
  "kernelspec": {
   "display_name": "NLTK_KERNEL",
   "language": "python",
   "name": "nltk_kernel"
  },
  "language_info": {
   "codemirror_mode": {
    "name": "ipython",
    "version": 3
   },
   "file_extension": ".py",
   "mimetype": "text/x-python",
   "name": "python",
   "nbconvert_exporter": "python",
   "pygments_lexer": "ipython3",
   "version": "3.10.11"
  },
  "widgets": {
   "application/vnd.jupyter.widget-state+json": {
    "state": {},
    "version_major": 2,
    "version_minor": 0
   }
  }
 },
 "nbformat": 4,
 "nbformat_minor": 5
}
