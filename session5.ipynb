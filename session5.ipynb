{
 "cells": [
  {
   "cell_type": "code",
   "execution_count": 3,
   "id": "1783d931-0c3f-4d0f-90c1-cdb495b0639e",
   "metadata": {},
   "outputs": [
    {
     "ename": "ModuleNotFoundError",
     "evalue": "No module named 'gensim'",
     "output_type": "error",
     "traceback": [
      "\u001b[1;31m---------------------------------------------------------------------------\u001b[0m",
      "\u001b[1;31mModuleNotFoundError\u001b[0m                       Traceback (most recent call last)",
      "Cell \u001b[1;32mIn[3], line 10\u001b[0m\n\u001b[0;32m      8\u001b[0m \u001b[38;5;28;01mfrom\u001b[39;00m \u001b[38;5;21;01msklearn\u001b[39;00m\u001b[38;5;21;01m.\u001b[39;00m\u001b[38;5;21;01mfeature_extraction\u001b[39;00m\u001b[38;5;21;01m.\u001b[39;00m\u001b[38;5;21;01mtext\u001b[39;00m \u001b[38;5;28;01mimport\u001b[39;00m TfidfVectorizer\n\u001b[0;32m      9\u001b[0m \u001b[38;5;28;01mfrom\u001b[39;00m \u001b[38;5;21;01mtqdm\u001b[39;00m \u001b[38;5;28;01mimport\u001b[39;00m tqdm\n\u001b[1;32m---> 10\u001b[0m \u001b[38;5;28;01mimport\u001b[39;00m \u001b[38;5;21;01mgensim\u001b[39;00m\u001b[38;5;21;01m.\u001b[39;00m\u001b[38;5;21;01mdownloader\u001b[39;00m \u001b[38;5;28;01mas\u001b[39;00m \u001b[38;5;21;01mapi\u001b[39;00m\n",
      "\u001b[1;31mModuleNotFoundError\u001b[0m: No module named 'gensim'"
     ]
    }
   ],
   "source": [
    "\n",
    "import pandas as pd\n",
    "import numpy as np\n",
    "import re\n",
    "import nltk\n",
    "from sklearn.model_selection import train_test_split\n",
    "from sklearn.linear_model import LogisticRegression\n",
    "from sklearn.metrics import accuracy_score, confusion_matrix\n",
    "from sklearn.feature_extraction.text import TfidfVectorizer\n",
    "from tqdm import tqdm\n",
    "import gensim.downloader as api"
   ]
  },
  {
   "cell_type": "code",
   "execution_count": 4,
   "id": "641927ca-ef82-4995-b409-3f776ad64513",
   "metadata": {},
   "outputs": [
    {
     "name": "stdout",
     "output_type": "stream",
     "text": [
      "Defaulting to user installation because normal site-packages is not writeable\n",
      "Collecting gensim\n",
      "  Downloading gensim-4.3.3-cp310-cp310-win_amd64.whl.metadata (8.2 kB)\n",
      "Requirement already satisfied: numpy<2.0,>=1.18.5 in c:\\users\\monisha\\appdata\\roaming\\python\\python310\\site-packages (from gensim) (1.26.4)\n",
      "Collecting scipy<1.14.0,>=1.7.0 (from gensim)\n",
      "  Downloading scipy-1.13.1-cp310-cp310-win_amd64.whl.metadata (60 kB)\n",
      "Collecting smart-open>=1.8.1 (from gensim)\n",
      "  Downloading smart_open-7.1.0-py3-none-any.whl.metadata (24 kB)\n",
      "Requirement already satisfied: wrapt in c:\\users\\monisha\\appdata\\roaming\\python\\python310\\site-packages (from smart-open>=1.8.1->gensim) (1.17.0)\n",
      "Downloading gensim-4.3.3-cp310-cp310-win_amd64.whl (24.0 MB)\n",
      "   ---------------------------------------- 0.0/24.0 MB ? eta -:--:--\n",
      "   --- ------------------------------------ 2.1/24.0 MB 11.8 MB/s eta 0:00:02\n",
      "   ------ --------------------------------- 3.9/24.0 MB 10.7 MB/s eta 0:00:02\n",
      "   ---------- ----------------------------- 6.3/24.0 MB 10.2 MB/s eta 0:00:02\n",
      "   ------------ --------------------------- 7.6/24.0 MB 9.0 MB/s eta 0:00:02\n",
      "   ------------- -------------------------- 8.1/24.0 MB 8.5 MB/s eta 0:00:02\n",
      "   -------------- ------------------------- 8.7/24.0 MB 6.8 MB/s eta 0:00:03\n",
      "   --------------- ------------------------ 9.2/24.0 MB 6.2 MB/s eta 0:00:03\n",
      "   ---------------- ----------------------- 10.0/24.0 MB 5.8 MB/s eta 0:00:03\n",
      "   ----------------- ---------------------- 10.7/24.0 MB 5.6 MB/s eta 0:00:03\n",
      "   ------------------- -------------------- 11.8/24.0 MB 5.6 MB/s eta 0:00:03\n",
      "   ---------------------- ----------------- 13.4/24.0 MB 5.6 MB/s eta 0:00:02\n",
      "   ------------------------ --------------- 14.9/24.0 MB 5.7 MB/s eta 0:00:02\n",
      "   --------------------------- ------------ 16.5/24.0 MB 5.9 MB/s eta 0:00:02\n",
      "   ------------------------------ --------- 18.1/24.0 MB 6.0 MB/s eta 0:00:01\n",
      "   --------------------------------- ------ 20.2/24.0 MB 6.2 MB/s eta 0:00:01\n",
      "   ------------------------------------ --- 21.8/24.0 MB 6.3 MB/s eta 0:00:01\n",
      "   ------------------------------------- -- 22.8/24.0 MB 6.2 MB/s eta 0:00:01\n",
      "   ---------------------------------------  23.6/24.0 MB 6.1 MB/s eta 0:00:01\n",
      "   ---------------------------------------  23.9/24.0 MB 6.1 MB/s eta 0:00:01\n",
      "   ---------------------------------------  23.9/24.0 MB 6.1 MB/s eta 0:00:01\n",
      "   ---------------------------------------- 24.0/24.0 MB 5.4 MB/s eta 0:00:00\n",
      "Downloading scipy-1.13.1-cp310-cp310-win_amd64.whl (46.2 MB)\n",
      "   ---------------------------------------- 0.0/46.2 MB ? eta -:--:--\n",
      "    --------------------------------------- 0.8/46.2 MB 5.6 MB/s eta 0:00:09\n",
      "   - -------------------------------------- 2.1/46.2 MB 5.3 MB/s eta 0:00:09\n",
      "   --- ------------------------------------ 3.7/46.2 MB 5.7 MB/s eta 0:00:08\n",
      "   ---- ----------------------------------- 5.2/46.2 MB 6.1 MB/s eta 0:00:07\n",
      "   ----- ---------------------------------- 6.8/46.2 MB 6.5 MB/s eta 0:00:07\n",
      "   ------- -------------------------------- 8.4/46.2 MB 6.7 MB/s eta 0:00:06\n",
      "   -------- ------------------------------- 10.2/46.2 MB 6.9 MB/s eta 0:00:06\n",
      "   ---------- ----------------------------- 11.8/46.2 MB 7.0 MB/s eta 0:00:05\n",
      "   ---------- ----------------------------- 12.6/46.2 MB 6.6 MB/s eta 0:00:06\n",
      "   ----------- ---------------------------- 12.8/46.2 MB 6.2 MB/s eta 0:00:06\n",
      "   ----------- ---------------------------- 13.6/46.2 MB 5.8 MB/s eta 0:00:06\n",
      "   ------------ --------------------------- 14.4/46.2 MB 5.6 MB/s eta 0:00:06\n",
      "   ------------- -------------------------- 15.5/46.2 MB 5.5 MB/s eta 0:00:06\n",
      "   -------------- ------------------------- 16.8/46.2 MB 5.6 MB/s eta 0:00:06\n",
      "   --------------- ------------------------ 17.8/46.2 MB 5.6 MB/s eta 0:00:06\n",
      "   ---------------- ----------------------- 19.4/46.2 MB 5.6 MB/s eta 0:00:05\n",
      "   ------------------ --------------------- 21.2/46.2 MB 5.8 MB/s eta 0:00:05\n",
      "   ------------------- -------------------- 22.8/46.2 MB 5.9 MB/s eta 0:00:04\n",
      "   --------------------- ------------------ 24.6/46.2 MB 6.0 MB/s eta 0:00:04\n",
      "   ---------------------- ----------------- 26.2/46.2 MB 6.1 MB/s eta 0:00:04\n",
      "   ------------------------ --------------- 27.8/46.2 MB 6.2 MB/s eta 0:00:03\n",
      "   ------------------------ --------------- 28.6/46.2 MB 6.1 MB/s eta 0:00:03\n",
      "   ------------------------- -------------- 29.4/46.2 MB 5.9 MB/s eta 0:00:03\n",
      "   -------------------------- ------------- 30.1/46.2 MB 5.9 MB/s eta 0:00:03\n",
      "   --------------------------- ------------ 31.2/46.2 MB 5.8 MB/s eta 0:00:03\n",
      "   ---------------------------- ----------- 32.5/46.2 MB 5.8 MB/s eta 0:00:03\n",
      "   ----------------------------- ---------- 34.1/46.2 MB 5.8 MB/s eta 0:00:03\n",
      "   ------------------------------ --------- 35.7/46.2 MB 5.9 MB/s eta 0:00:02\n",
      "   -------------------------------- ------- 37.2/46.2 MB 6.0 MB/s eta 0:00:02\n",
      "   --------------------------------- ------ 38.8/46.2 MB 6.0 MB/s eta 0:00:02\n",
      "   ----------------------------------- ---- 40.6/46.2 MB 6.1 MB/s eta 0:00:01\n",
      "   ------------------------------------ --- 42.2/46.2 MB 6.1 MB/s eta 0:00:01\n",
      "   ------------------------------------- -- 43.0/46.2 MB 6.1 MB/s eta 0:00:01\n",
      "   ------------------------------------- -- 43.0/46.2 MB 6.1 MB/s eta 0:00:01\n",
      "   ------------------------------------- -- 43.8/46.2 MB 5.8 MB/s eta 0:00:01\n",
      "   ---------------------------------------  45.1/46.2 MB 5.8 MB/s eta 0:00:01\n",
      "   ---------------------------------------  46.1/46.2 MB 5.8 MB/s eta 0:00:01\n",
      "   ---------------------------------------  46.1/46.2 MB 5.8 MB/s eta 0:00:01\n",
      "   ---------------------------------------- 46.2/46.2 MB 5.5 MB/s eta 0:00:00\n",
      "Downloading smart_open-7.1.0-py3-none-any.whl (61 kB)\n",
      "Installing collected packages: smart-open, scipy, gensim\n",
      "  Attempting uninstall: scipy\n",
      "    Found existing installation: scipy 1.14.1\n",
      "    Uninstalling scipy-1.14.1:\n",
      "      Successfully uninstalled scipy-1.14.1\n",
      "Successfully installed gensim-4.3.3 scipy-1.13.1 smart-open-7.1.0\n"
     ]
    },
    {
     "name": "stderr",
     "output_type": "stream",
     "text": [
      "WARNING: Ignoring invalid distribution -atplotlib (c:\\users\\monisha\\appdata\\roaming\\python\\python310\\site-packages)\n",
      "WARNING: Ignoring invalid distribution -atplotlib (c:\\users\\monisha\\appdata\\roaming\\python\\python310\\site-packages)\n",
      "WARNING: Ignoring invalid distribution -atplotlib (c:\\users\\monisha\\appdata\\roaming\\python\\python310\\site-packages)\n",
      "  WARNING: Failed to remove contents in a temporary directory 'C:\\Users\\MONISHA\\AppData\\Roaming\\Python\\Python310\\site-packages\\~cipy.libs'.\n",
      "  You can safely remove it manually.\n",
      "  WARNING: Failed to remove contents in a temporary directory 'C:\\Users\\MONISHA\\AppData\\Roaming\\Python\\Python310\\site-packages\\~cipy'.\n",
      "  You can safely remove it manually.\n",
      "WARNING: Ignoring invalid distribution -atplotlib (c:\\users\\monisha\\appdata\\roaming\\python\\python310\\site-packages)\n",
      "\n",
      "[notice] A new release of pip is available: 24.3.1 -> 25.0.1\n",
      "[notice] To update, run: python.exe -m pip install --upgrade pip\n"
     ]
    }
   ],
   "source": [
    "!pip install  gensim\n"
   ]
  },
  {
   "cell_type": "code",
   "execution_count": null,
   "id": "adc03f9a-fbfd-4c6a-b27d-80f1239938d6",
   "metadata": {},
   "outputs": [],
   "source": []
  }
 ],
 "metadata": {
  "kernelspec": {
   "display_name": "Python 3 (ipykernel)",
   "language": "python",
   "name": "python3"
  },
  "language_info": {
   "codemirror_mode": {
    "name": "ipython",
    "version": 3
   },
   "file_extension": ".py",
   "mimetype": "text/x-python",
   "name": "python",
   "nbconvert_exporter": "python",
   "pygments_lexer": "ipython3",
   "version": "3.10.11"
  },
  "widgets": {
   "application/vnd.jupyter.widget-state+json": {
    "state": {},
    "version_major": 2,
    "version_minor": 0
   }
  }
 },
 "nbformat": 4,
 "nbformat_minor": 5
}
